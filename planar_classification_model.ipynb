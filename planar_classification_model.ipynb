{
 "cells": [
  {
   "cell_type": "code",
   "execution_count": 1,
   "id": "3b6c610a",
   "metadata": {},
   "outputs": [],
   "source": [
    "import numpy as np\n",
    "import copy"
   ]
  },
  {
   "cell_type": "code",
   "execution_count": 2,
   "id": "37e9692f",
   "metadata": {},
   "outputs": [],
   "source": [
    "def load_planar_dataset():\n",
    "    np.random.seed(1)\n",
    "    m = 400 # number of examples\n",
    "    N = int(m/2) # number of points per class\n",
    "    D = 2 # dimensionality\n",
    "    X = np.zeros((m,D)) # data matrix where each row is a single example\n",
    "    Y = np.zeros((m,1), dtype='uint8') # labels vector (0 for red, 1 for blue)\n",
    "    a = 4 # maximum ray of the flower\n",
    "\n",
    "    for j in range(2):\n",
    "        ix = range(N*j,N*(j+1))\n",
    "        t = np.linspace(j*3.12,(j+1)*3.12,N) + np.random.randn(N)*0.2 # theta\n",
    "        r = a*np.sin(4*t) + np.random.randn(N)*0.2 # radius\n",
    "        X[ix] = np.c_[r*np.sin(t), r*np.cos(t)]\n",
    "        Y[ix] = j\n",
    "        \n",
    "    X = X.T\n",
    "    Y = Y.T\n",
    "\n",
    "    return X, Y\n",
    "X, Y = load_planar_dataset()"
   ]
  },
  {
   "cell_type": "code",
   "execution_count": 3,
   "id": "bf52f0dc",
   "metadata": {},
   "outputs": [
    {
     "name": "stdout",
     "output_type": "stream",
     "text": [
      "X shape:  (2, 400)\n",
      "Y shape:  (1, 400)\n"
     ]
    }
   ],
   "source": [
    "print(\"X shape: \", X.shape)\n",
    "print(\"Y shape: \", Y.shape)"
   ]
  },
  {
   "cell_type": "code",
   "execution_count": 47,
   "id": "6f8609a1",
   "metadata": {},
   "outputs": [],
   "source": [
    "def layer_sizes(X, Y):\n",
    "    n_x = X.shape[0]\n",
    "    n_y = Y.shape[0]\n",
    "    return (n_x, n_y)"
   ]
  },
  {
   "cell_type": "code",
   "execution_count": 48,
   "id": "73ac6bbf",
   "metadata": {},
   "outputs": [],
   "source": [
    "def initialize_parameters(n_x, n_h, n_y):\n",
    "    W1 = np.random.randn(n_h, n_x) * 0.01\n",
    "    b1 = np.zeros((n_h, 1))\n",
    "    W2 = np.random.randn(n_y, n_h) * 0.01\n",
    "    b2 = np.zeros((n_y, 1))\n",
    "    parameters = {'W1': W1, 'b1': b1, 'W2': W2, 'b2': b2}\n",
    "    return parameters"
   ]
  },
  {
   "cell_type": "code",
   "execution_count": 49,
   "id": "7a3ef920",
   "metadata": {},
   "outputs": [],
   "source": [
    "def sigmoid(Z):\n",
    "    A = 1 / (1 + np.exp(-Z))\n",
    "    return A"
   ]
  },
  {
   "cell_type": "code",
   "execution_count": 50,
   "id": "c3c5521f",
   "metadata": {},
   "outputs": [],
   "source": [
    "def forward_propagation(X, parameters):\n",
    "    W1 = parameters['W1']\n",
    "    b1 = parameters['b1']\n",
    "    W2 = parameters['W2']\n",
    "    b2 = parameters['b2']\n",
    "    \n",
    "    Z1 = np.matmul(W1, X) + b1\n",
    "    A1 = np.tanh(Z1)\n",
    "    \n",
    "    Z2 = np.matmul(W2, A1) + b2\n",
    "    A2 = sigmoid(Z2)\n",
    "    \n",
    "    cache = {\"Z1\": Z1, \"A1\": A1, \"Z2\": Z2, \"A2\": A2}\n",
    "    \n",
    "    return A2, cache"
   ]
  },
  {
   "cell_type": "code",
   "execution_count": 51,
   "id": "59f02c7e",
   "metadata": {},
   "outputs": [],
   "source": [
    "def compute_cost(A2, Y):\n",
    "    m = A2.shape[1]\n",
    "    cost = -np.sum((Y * np.log(A2)) + ((1 - Y) * np.log(1 - A2))) / m\n",
    "    return cost"
   ]
  },
  {
   "cell_type": "code",
   "execution_count": 52,
   "id": "1d00db8b",
   "metadata": {},
   "outputs": [],
   "source": [
    "def backward_propagation(parameters, cache, X, Y):\n",
    "    m = X.shape[1]\n",
    "    \n",
    "    W2 = parameters['W2']\n",
    "    A1 = cache['A1']\n",
    "    A2 = cache['A2']\n",
    "    \n",
    "    dZ2 = A2 - Y\n",
    "    dW2 = np.matmul(dZ2, A1.T) / m\n",
    "    db2 = np.sum(dZ2, axis = 1, keepdims = True) / m\n",
    "    dZ1 = np.matmul(W2.T, dZ2) * (1 - np.power(A1, 2))\n",
    "    dW1 = np.matmul(dZ1, X.T) / m\n",
    "    db1 = np.sum(dZ1, axis = 1, keepdims = True) / m\n",
    "    \n",
    "    grads = {\"dW1\": dW1, \"db1\": db1, \"dW2\": dW2, \"db2\": db2}\n",
    "    \n",
    "    return grads"
   ]
  },
  {
   "cell_type": "code",
   "execution_count": 53,
   "id": "9f110484",
   "metadata": {},
   "outputs": [],
   "source": [
    "def update_parameters(parameters, grads, learning_rate=1.2):\n",
    "    W1 = parameters['W1']\n",
    "    b1 = parameters['b1']\n",
    "    W2 = parameters['W2']\n",
    "    b2 = parameters['b2']\n",
    "    \n",
    "    dW1 = grads['dW1']\n",
    "    db1 = grads['db1']\n",
    "    dW2 = grads['dW2']\n",
    "    db2 = grads['db2']\n",
    "    \n",
    "    W1 = W1 - learning_rate * dW1\n",
    "    b1 = b1 - learning_rate * db1\n",
    "    W2 = W2 - learning_rate * dW2\n",
    "    b2 = b2 - learning_rate * db2\n",
    "    \n",
    "    parameters = {'W1': W1, 'b1': b1, 'W2': W2, 'b2': b2}\n",
    "    \n",
    "    return parameters"
   ]
  },
  {
   "cell_type": "code",
   "execution_count": 54,
   "id": "c2cf5211",
   "metadata": {},
   "outputs": [],
   "source": [
    "def nn_model(X, Y, n_h, num_iterations=10000, print_cost=False):\n",
    "    np.random.seed(3)\n",
    "    n_x, n_y = layer_sizes(X, Y)\n",
    "    \n",
    "    parameters = initialize_parameters(n_x, n_h, n_y)\n",
    "    \n",
    "    for i in range(num_iterations):\n",
    "        A2, cache = forward_propagation(X, parameters)\n",
    "        \n",
    "        cost = compute_cost(A2, Y)\n",
    "        \n",
    "        grads = backward_propagation(parameters, cache, X, Y)\n",
    "        \n",
    "        parameters = update_parameters(parameters, grads)\n",
    "        \n",
    "        if print_cost and i % 1000 == 0 :\n",
    "            print(f\"cost at iteration {i} = {cost}\")\n",
    "    \n",
    "    \n",
    "    return parameters"
   ]
  },
  {
   "cell_type": "code",
   "execution_count": 55,
   "id": "2fb4e13c",
   "metadata": {},
   "outputs": [],
   "source": [
    "def predict(parameters, X):\n",
    "    A2, cache = forward_propagation(X, parameters)\n",
    "    \n",
    "    predictions  = (A2 > 0.5).astype(int)\n",
    "    return predictions"
   ]
  },
  {
   "cell_type": "code",
   "execution_count": 56,
   "id": "f2241afd",
   "metadata": {},
   "outputs": [
    {
     "name": "stdout",
     "output_type": "stream",
     "text": [
      "cost at iteration 0 = 0.6931621661402946\n",
      "cost at iteration 1000 = 0.2586250682869045\n",
      "cost at iteration 2000 = 0.23933351654583135\n",
      "cost at iteration 3000 = 0.23080163442975743\n",
      "cost at iteration 4000 = 0.22552802708176348\n",
      "cost at iteration 5000 = 0.22184467595022694\n",
      "cost at iteration 6000 = 0.21909438354878738\n",
      "cost at iteration 7000 = 0.22080588811611293\n",
      "cost at iteration 8000 = 0.21944639423275003\n",
      "cost at iteration 9000 = 0.21849633619133751\n"
     ]
    }
   ],
   "source": [
    "parameters = nn_model(X, Y, n_h = 4, num_iterations = 10000, print_cost=True)"
   ]
  },
  {
   "cell_type": "code",
   "execution_count": 57,
   "id": "a2f1348d",
   "metadata": {},
   "outputs": [],
   "source": [
    "def f1(y_hat, y):\n",
    "    tp = np.sum((y_hat == 1) & (y == 1))\n",
    "    fp = np.sum((y_hat == 1) & (y == 0))\n",
    "    fn = np.sum((y_hat == 0) & (y == 1))\n",
    "    precision = tp / (tp + fp)\n",
    "    recall = tp / (tp + fn)\n",
    "    f1 = 2 * precision * recall / (precision + recall)\n",
    "    return f1"
   ]
  },
  {
   "cell_type": "code",
   "execution_count": 58,
   "id": "30ac5f90",
   "metadata": {},
   "outputs": [
    {
     "data": {
      "text/plain": [
       "90.63291139240506"
      ]
     },
     "execution_count": 58,
     "metadata": {},
     "output_type": "execute_result"
    }
   ],
   "source": [
    "predictions = predict(parameters, X)\n",
    "f1_score = f1(predictions, Y)\n",
    "f1_score * 100"
   ]
  },
  {
   "cell_type": "code",
   "execution_count": 61,
   "id": "b0818770",
   "metadata": {},
   "outputs": [
    {
     "name": "stdout",
     "output_type": "stream",
     "text": [
      "The F1 score for 1 hidden layer = 67.5 %\n",
      "The F1 score for 2 hidden layer = 67.00251889168767 %\n",
      "The F1 score for 3 hidden layer = 91.044776119403 %\n",
      "The F1 score for 4 hidden layer = 90.63291139240506 %\n",
      "The F1 score for 5 hidden layer = 91.1764705882353 %\n",
      "The F1 score for 6 hidden layer = 90.81885856079404 %\n",
      "The F1 score for 7 hidden layer = 88.8888888888889 %\n",
      "The F1 score for 8 hidden layer = 91.0891089108911 %\n",
      "The F1 score for 9 hidden layer = 90.67357512953367 %\n",
      "The F1 score for 10 hidden layer = 91.23711340206185 %\n"
     ]
    }
   ],
   "source": [
    "hidden_layer_sizes = [1, 2, 3, 4, 5, 6, 7, 8, 9, 10]\n",
    "\n",
    "for i, n_h in enumerate(hidden_layer_sizes):\n",
    "    parameters = nn_model(X, Y, n_h, num_iterations = 10000)\n",
    "    predictions = predict(parameters, X)\n",
    "    f1_score = f1(predictions, Y)\n",
    "    print(f\"The F1 score for {n_h} hidden layer = {f1_score * 100} %\")"
   ]
  }
 ],
 "metadata": {
  "kernelspec": {
   "display_name": "Python 3 (ipykernel)",
   "language": "python",
   "name": "python3"
  },
  "language_info": {
   "codemirror_mode": {
    "name": "ipython",
    "version": 3
   },
   "file_extension": ".py",
   "mimetype": "text/x-python",
   "name": "python",
   "nbconvert_exporter": "python",
   "pygments_lexer": "ipython3",
   "version": "3.10.9"
  }
 },
 "nbformat": 4,
 "nbformat_minor": 5
}
